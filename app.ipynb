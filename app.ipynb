{
 "cells": [
  {
   "cell_type": "markdown",
   "id": "d5d7b8b1-96ad-47aa-91cc-4326e8987d24",
   "metadata": {},
   "source": [
    "# Dogs vs Cats"
   ]
  },
  {
   "cell_type": "code",
   "execution_count": 1,
   "id": "ce375855-dea8-41e7-9f1e-cc5cb579bea3",
   "metadata": {},
   "outputs": [],
   "source": [
    "#|default_exp app"
   ]
  },
  {
   "cell_type": "code",
   "execution_count": 2,
   "id": "0d36b5be-0c8e-4e39-be5f-39e89fd6a7a9",
   "metadata": {
    "scrolled": true
   },
   "outputs": [
    {
     "name": "stdout",
     "output_type": "stream",
     "text": [
      "Requirement already satisfied: gradio in /opt/homebrew/lib/python3.11/site-packages (3.45.2)\n",
      "Requirement already satisfied: aiofiles<24.0,>=22.0 in /opt/homebrew/lib/python3.11/site-packages (from gradio) (23.2.1)\n",
      "Requirement already satisfied: altair<6.0,>=4.2.0 in /opt/homebrew/lib/python3.11/site-packages (from gradio) (5.1.1)\n",
      "Requirement already satisfied: fastapi in /opt/homebrew/lib/python3.11/site-packages (from gradio) (0.103.2)\n",
      "Requirement already satisfied: ffmpy in /opt/homebrew/lib/python3.11/site-packages (from gradio) (0.3.1)\n",
      "Requirement already satisfied: gradio-client==0.5.3 in /opt/homebrew/lib/python3.11/site-packages (from gradio) (0.5.3)\n",
      "Requirement already satisfied: httpx in /opt/homebrew/lib/python3.11/site-packages (from gradio) (0.25.0)\n",
      "Requirement already satisfied: huggingface-hub>=0.14.0 in /opt/homebrew/lib/python3.11/site-packages (from gradio) (0.17.3)\n",
      "Requirement already satisfied: importlib-resources<7.0,>=1.3 in /opt/homebrew/lib/python3.11/site-packages (from gradio) (6.1.0)\n",
      "Requirement already satisfied: jinja2<4.0 in /opt/homebrew/lib/python3.11/site-packages (from gradio) (3.1.2)\n",
      "Requirement already satisfied: markupsafe~=2.0 in /opt/homebrew/lib/python3.11/site-packages (from gradio) (2.1.3)\n",
      "Requirement already satisfied: matplotlib~=3.0 in /opt/homebrew/lib/python3.11/site-packages (from gradio) (3.8.0)\n",
      "Requirement already satisfied: numpy~=1.0 in /opt/homebrew/lib/python3.11/site-packages (from gradio) (1.26.0)\n",
      "Requirement already satisfied: orjson~=3.0 in /opt/homebrew/lib/python3.11/site-packages (from gradio) (3.9.7)\n",
      "Requirement already satisfied: packaging in /opt/homebrew/lib/python3.11/site-packages (from gradio) (23.1)\n",
      "Requirement already satisfied: pandas<3.0,>=1.0 in /opt/homebrew/lib/python3.11/site-packages (from gradio) (2.1.1)\n",
      "Requirement already satisfied: pillow<11.0,>=8.0 in /opt/homebrew/lib/python3.11/site-packages (from gradio) (10.0.1)\n",
      "Requirement already satisfied: pydantic!=1.8,!=1.8.1,!=2.0.0,!=2.0.1,<3.0.0,>=1.7.4 in /opt/homebrew/lib/python3.11/site-packages (from gradio) (2.4.2)\n",
      "Requirement already satisfied: pydub in /opt/homebrew/lib/python3.11/site-packages (from gradio) (0.25.1)\n",
      "Requirement already satisfied: python-multipart in /opt/homebrew/lib/python3.11/site-packages (from gradio) (0.0.6)\n",
      "Requirement already satisfied: pyyaml<7.0,>=5.0 in /opt/homebrew/lib/python3.11/site-packages (from gradio) (6.0.1)\n",
      "Requirement already satisfied: requests~=2.0 in /opt/homebrew/lib/python3.11/site-packages (from gradio) (2.31.0)\n",
      "Requirement already satisfied: semantic-version~=2.0 in /opt/homebrew/lib/python3.11/site-packages (from gradio) (2.10.0)\n",
      "Requirement already satisfied: typing-extensions~=4.0 in /opt/homebrew/lib/python3.11/site-packages (from gradio) (4.8.0)\n",
      "Requirement already satisfied: uvicorn>=0.14.0 in /opt/homebrew/lib/python3.11/site-packages (from gradio) (0.23.2)\n",
      "Requirement already satisfied: websockets<12.0,>=10.0 in /opt/homebrew/lib/python3.11/site-packages (from gradio) (11.0.3)\n",
      "Requirement already satisfied: fsspec in /opt/homebrew/lib/python3.11/site-packages (from gradio-client==0.5.3->gradio) (2023.6.0)\n",
      "Requirement already satisfied: jsonschema>=3.0 in /opt/homebrew/lib/python3.11/site-packages (from altair<6.0,>=4.2.0->gradio) (4.19.1)\n",
      "Requirement already satisfied: toolz in /opt/homebrew/lib/python3.11/site-packages (from altair<6.0,>=4.2.0->gradio) (0.12.0)\n",
      "Requirement already satisfied: filelock in /opt/homebrew/lib/python3.11/site-packages (from huggingface-hub>=0.14.0->gradio) (3.12.4)\n",
      "Requirement already satisfied: tqdm>=4.42.1 in /opt/homebrew/lib/python3.11/site-packages (from huggingface-hub>=0.14.0->gradio) (4.66.1)\n",
      "Requirement already satisfied: contourpy>=1.0.1 in /opt/homebrew/lib/python3.11/site-packages (from matplotlib~=3.0->gradio) (1.1.1)\n",
      "Requirement already satisfied: cycler>=0.10 in /opt/homebrew/lib/python3.11/site-packages (from matplotlib~=3.0->gradio) (0.12.0)\n",
      "Requirement already satisfied: fonttools>=4.22.0 in /opt/homebrew/lib/python3.11/site-packages (from matplotlib~=3.0->gradio) (4.43.0)\n",
      "Requirement already satisfied: kiwisolver>=1.0.1 in /opt/homebrew/lib/python3.11/site-packages (from matplotlib~=3.0->gradio) (1.4.5)\n",
      "Requirement already satisfied: pyparsing>=2.3.1 in /opt/homebrew/lib/python3.11/site-packages (from matplotlib~=3.0->gradio) (3.1.1)\n",
      "Requirement already satisfied: python-dateutil>=2.7 in /opt/homebrew/lib/python3.11/site-packages (from matplotlib~=3.0->gradio) (2.8.2)\n",
      "Requirement already satisfied: pytz>=2020.1 in /opt/homebrew/lib/python3.11/site-packages (from pandas<3.0,>=1.0->gradio) (2023.3.post1)\n",
      "Requirement already satisfied: tzdata>=2022.1 in /opt/homebrew/lib/python3.11/site-packages (from pandas<3.0,>=1.0->gradio) (2023.3)\n",
      "Requirement already satisfied: annotated-types>=0.4.0 in /opt/homebrew/lib/python3.11/site-packages (from pydantic!=1.8,!=1.8.1,!=2.0.0,!=2.0.1,<3.0.0,>=1.7.4->gradio) (0.5.0)\n",
      "Requirement already satisfied: pydantic-core==2.10.1 in /opt/homebrew/lib/python3.11/site-packages (from pydantic!=1.8,!=1.8.1,!=2.0.0,!=2.0.1,<3.0.0,>=1.7.4->gradio) (2.10.1)\n",
      "Requirement already satisfied: charset-normalizer<4,>=2 in /opt/homebrew/lib/python3.11/site-packages (from requests~=2.0->gradio) (3.2.0)\n",
      "Requirement already satisfied: idna<4,>=2.5 in /opt/homebrew/lib/python3.11/site-packages (from requests~=2.0->gradio) (3.4)\n",
      "Requirement already satisfied: urllib3<3,>=1.21.1 in /opt/homebrew/lib/python3.11/site-packages (from requests~=2.0->gradio) (2.0.5)\n",
      "Requirement already satisfied: certifi>=2017.4.17 in /opt/homebrew/lib/python3.11/site-packages (from requests~=2.0->gradio) (2023.7.22)\n",
      "Requirement already satisfied: click>=7.0 in /opt/homebrew/lib/python3.11/site-packages (from uvicorn>=0.14.0->gradio) (8.1.7)\n",
      "Requirement already satisfied: h11>=0.8 in /opt/homebrew/lib/python3.11/site-packages (from uvicorn>=0.14.0->gradio) (0.14.0)\n",
      "Requirement already satisfied: anyio<4.0.0,>=3.7.1 in /opt/homebrew/lib/python3.11/site-packages (from fastapi->gradio) (3.7.1)\n",
      "Requirement already satisfied: starlette<0.28.0,>=0.27.0 in /opt/homebrew/lib/python3.11/site-packages (from fastapi->gradio) (0.27.0)\n",
      "Requirement already satisfied: httpcore<0.19.0,>=0.18.0 in /opt/homebrew/lib/python3.11/site-packages (from httpx->gradio) (0.18.0)\n",
      "Requirement already satisfied: sniffio in /opt/homebrew/lib/python3.11/site-packages (from httpx->gradio) (1.3.0)\n",
      "Requirement already satisfied: attrs>=22.2.0 in /opt/homebrew/lib/python3.11/site-packages (from jsonschema>=3.0->altair<6.0,>=4.2.0->gradio) (23.1.0)\n",
      "Requirement already satisfied: jsonschema-specifications>=2023.03.6 in /opt/homebrew/lib/python3.11/site-packages (from jsonschema>=3.0->altair<6.0,>=4.2.0->gradio) (2023.7.1)\n",
      "Requirement already satisfied: referencing>=0.28.4 in /opt/homebrew/lib/python3.11/site-packages (from jsonschema>=3.0->altair<6.0,>=4.2.0->gradio) (0.30.2)\n",
      "Requirement already satisfied: rpds-py>=0.7.1 in /opt/homebrew/lib/python3.11/site-packages (from jsonschema>=3.0->altair<6.0,>=4.2.0->gradio) (0.10.3)\n",
      "Requirement already satisfied: six>=1.5 in /opt/homebrew/lib/python3.11/site-packages (from python-dateutil>=2.7->matplotlib~=3.0->gradio) (1.16.0)\n"
     ]
    }
   ],
   "source": [
    "#install gradio if it isn't already installed\n",
    "!pip3 install gradio"
   ]
  },
  {
   "cell_type": "code",
   "execution_count": 3,
   "id": "15235c38-4398-4925-bc69-8719abe6e6a2",
   "metadata": {},
   "outputs": [
    {
     "name": "stdout",
     "output_type": "stream",
     "text": [
      "Requirement already satisfied: nbdev in /opt/homebrew/lib/python3.11/site-packages (2.3.12)\n",
      "Requirement already satisfied: fastcore>=1.5.27 in /opt/homebrew/lib/python3.11/site-packages (from nbdev) (1.5.29)\n",
      "Requirement already satisfied: execnb>=0.1.4 in /opt/homebrew/lib/python3.11/site-packages (from nbdev) (0.1.5)\n",
      "Requirement already satisfied: astunparse in /opt/homebrew/lib/python3.11/site-packages (from nbdev) (1.6.3)\n",
      "Requirement already satisfied: ghapi>=1.0.3 in /opt/homebrew/lib/python3.11/site-packages (from nbdev) (1.0.4)\n",
      "Requirement already satisfied: watchdog in /opt/homebrew/lib/python3.11/site-packages (from nbdev) (3.0.0)\n",
      "Requirement already satisfied: asttokens in /opt/homebrew/lib/python3.11/site-packages (from nbdev) (2.4.0)\n",
      "Requirement already satisfied: PyYAML in /opt/homebrew/lib/python3.11/site-packages (from nbdev) (6.0.1)\n",
      "Requirement already satisfied: ipython in /opt/homebrew/lib/python3.11/site-packages (from execnb>=0.1.4->nbdev) (8.15.0)\n",
      "Requirement already satisfied: pip in /opt/homebrew/lib/python3.11/site-packages (from fastcore>=1.5.27->nbdev) (23.2.1)\n",
      "Requirement already satisfied: packaging in /opt/homebrew/lib/python3.11/site-packages (from fastcore>=1.5.27->nbdev) (23.1)\n",
      "Requirement already satisfied: six>=1.12.0 in /opt/homebrew/lib/python3.11/site-packages (from asttokens->nbdev) (1.16.0)\n",
      "Requirement already satisfied: wheel<1.0,>=0.23.0 in /opt/homebrew/lib/python3.11/site-packages (from astunparse->nbdev) (0.41.2)\n",
      "Requirement already satisfied: backcall in /opt/homebrew/lib/python3.11/site-packages (from ipython->execnb>=0.1.4->nbdev) (0.2.0)\n",
      "Requirement already satisfied: decorator in /opt/homebrew/lib/python3.11/site-packages (from ipython->execnb>=0.1.4->nbdev) (5.1.1)\n",
      "Requirement already satisfied: jedi>=0.16 in /opt/homebrew/lib/python3.11/site-packages (from ipython->execnb>=0.1.4->nbdev) (0.19.0)\n",
      "Requirement already satisfied: matplotlib-inline in /opt/homebrew/lib/python3.11/site-packages (from ipython->execnb>=0.1.4->nbdev) (0.1.6)\n",
      "Requirement already satisfied: pickleshare in /opt/homebrew/lib/python3.11/site-packages (from ipython->execnb>=0.1.4->nbdev) (0.7.5)\n",
      "Requirement already satisfied: prompt-toolkit!=3.0.37,<3.1.0,>=3.0.30 in /opt/homebrew/lib/python3.11/site-packages (from ipython->execnb>=0.1.4->nbdev) (3.0.39)\n",
      "Requirement already satisfied: pygments>=2.4.0 in /opt/homebrew/lib/python3.11/site-packages (from ipython->execnb>=0.1.4->nbdev) (2.16.1)\n",
      "Requirement already satisfied: stack-data in /opt/homebrew/lib/python3.11/site-packages (from ipython->execnb>=0.1.4->nbdev) (0.6.2)\n",
      "Requirement already satisfied: traitlets>=5 in /opt/homebrew/lib/python3.11/site-packages (from ipython->execnb>=0.1.4->nbdev) (5.10.1)\n",
      "Requirement already satisfied: pexpect>4.3 in /opt/homebrew/lib/python3.11/site-packages (from ipython->execnb>=0.1.4->nbdev) (4.8.0)\n",
      "Requirement already satisfied: appnope in /opt/homebrew/lib/python3.11/site-packages (from ipython->execnb>=0.1.4->nbdev) (0.1.3)\n",
      "Requirement already satisfied: parso<0.9.0,>=0.8.3 in /opt/homebrew/lib/python3.11/site-packages (from jedi>=0.16->ipython->execnb>=0.1.4->nbdev) (0.8.3)\n",
      "Requirement already satisfied: ptyprocess>=0.5 in /opt/homebrew/lib/python3.11/site-packages (from pexpect>4.3->ipython->execnb>=0.1.4->nbdev) (0.7.0)\n",
      "Requirement already satisfied: wcwidth in /opt/homebrew/lib/python3.11/site-packages (from prompt-toolkit!=3.0.37,<3.1.0,>=3.0.30->ipython->execnb>=0.1.4->nbdev) (0.2.6)\n",
      "Requirement already satisfied: executing>=1.2.0 in /opt/homebrew/lib/python3.11/site-packages (from stack-data->ipython->execnb>=0.1.4->nbdev) (1.2.0)\n",
      "Requirement already satisfied: pure-eval in /opt/homebrew/lib/python3.11/site-packages (from stack-data->ipython->execnb>=0.1.4->nbdev) (0.2.2)\n"
     ]
    }
   ],
   "source": [
    "!pip3 install nbdev"
   ]
  },
  {
   "cell_type": "code",
   "execution_count": 4,
   "id": "2a3bba42-b9c7-415b-a8d5-5d3c1fc7c434",
   "metadata": {},
   "outputs": [],
   "source": [
    "#|export\n",
    "from fastai.vision.all import *\n",
    "import gradio as gr\n",
    "def is_cat(subject): return subject[0].isupper()"
   ]
  },
  {
   "cell_type": "code",
   "execution_count": 5,
   "id": "a72b9776-8357-4ef4-825e-13fc4dae7e4b",
   "metadata": {},
   "outputs": [
    {
     "data": {
      "image/jpeg": "[encoded data removed]",
      "image/png": "[encoded data removed]",
      "text/plain": [
       "PILImage mode=RGB size=192x192"
      ]
     },
     "execution_count": 5,
     "metadata": {},
     "output_type": "execute_result"
    }
   ],
   "source": [
    "# Create an image object that can show itself and converts to TensorImage for the learner\n",
    "im = PILImage.create('dog.jpeg')\n",
    "\n",
    "# Set image dimensions\n",
    "im.thumbnail((192,192))\n",
    "\n",
    "# Show image\n",
    "im"
   ]
  },
  {
   "cell_type": "code",
   "execution_count": 6,
   "id": "2435daa4-70d4-426a-8ceb-faed01a54d7d",
   "metadata": {},
   "outputs": [],
   "source": [
    "#|export\n",
    "learn = load_learner('model.pkl')"
   ]
  },
  {
   "cell_type": "code",
   "execution_count": 7,
   "id": "90987a20-a824-4867-a334-a10eb448736c",
   "metadata": {},
   "outputs": [
    {
     "data": {
      "text/html": [
       "\n",
       "<style>\n",
       "    /* Turns off some styling */\n",
       "    progress {\n",
       "        /* gets rid of default border in Firefox and Opera. */\n",
       "        border: none;\n",
       "        /* Needs to be in here for Safari polyfill so background images work as expected. */\n",
       "        background-size: auto;\n",
       "    }\n",
       "    progress:not([value]), progress:not([value])::-webkit-progress-bar {\n",
       "        background: repeating-linear-gradient(45deg, #7e7e7e, #7e7e7e 10px, #5c5c5c 10px, #5c5c5c 20px);\n",
       "    }\n",
       "    .progress-bar-interrupted, .progress-bar-interrupted::-webkit-progress-bar {\n",
       "        background: #F44336;\n",
       "    }\n",
       "</style>\n"
      ],
      "text/plain": [
       "<IPython.core.display.HTML object>"
      ]
     },
     "metadata": {},
     "output_type": "display_data"
    },
    {
     "data": {
      "text/html": [],
      "text/plain": [
       "<IPython.core.display.HTML object>"
      ]
     },
     "metadata": {},
     "output_type": "display_data"
    },
    {
     "data": {
      "text/plain": [
       "('False', tensor(0), tensor([9.9992e-01, 8.4936e-05]))"
      ]
     },
     "execution_count": 7,
     "metadata": {},
     "output_type": "execute_result"
    }
   ],
   "source": [
    "learn.predict(im)\n",
    "# output translation: \n",
    "# (\n",
    "# \"False = Dog; True = Cat\", \n",
    "# tensor(0 = Dog; 1 = Cat), \n",
    "# tensor([probability that it is a Dog in scientific notation, probability that it is a Cat in scientific notation])\n",
    "# )"
   ]
  },
  {
   "cell_type": "code",
   "execution_count": 8,
   "id": "731546b0-d6f5-4c52-ae62-38cb51eb3a2d",
   "metadata": {},
   "outputs": [],
   "source": [
    "#|export\n",
    "categories = ('Dog','Cat')\n",
    "\n",
    "def classify_image(img):\n",
    "    # - 'pred' holds the predicted class as a string (e.g., either 'False' or 'True').\n",
    "    # - 'idx' holds a numeric prediction as an number (e.g., either 0 or 1).\n",
    "    # - 'probs' holds predicted probabilities for each class.\n",
    "    pred, idx, probs = learn.predict(img)\n",
    "    \n",
    "    # Create a dictionary that maps class labels ('Dog' and 'Cat') to their corresponding\n",
    "    # predicted probabilities as floating-point numbers (converted from scientific notation).\n",
    "    return dict(zip(categories, map(float, probs)))"
   ]
  },
  {
   "cell_type": "code",
   "execution_count": 9,
   "id": "592c9b1c-441e-49a0-b4be-fe041fa48906",
   "metadata": {},
   "outputs": [
    {
     "data": {
      "text/html": [
       "\n",
       "<style>\n",
       "    /* Turns off some styling */\n",
       "    progress {\n",
       "        /* gets rid of default border in Firefox and Opera. */\n",
       "        border: none;\n",
       "        /* Needs to be in here for Safari polyfill so background images work as expected. */\n",
       "        background-size: auto;\n",
       "    }\n",
       "    progress:not([value]), progress:not([value])::-webkit-progress-bar {\n",
       "        background: repeating-linear-gradient(45deg, #7e7e7e, #7e7e7e 10px, #5c5c5c 10px, #5c5c5c 20px);\n",
       "    }\n",
       "    .progress-bar-interrupted, .progress-bar-interrupted::-webkit-progress-bar {\n",
       "        background: #F44336;\n",
       "    }\n",
       "</style>\n"
      ],
      "text/plain": [
       "<IPython.core.display.HTML object>"
      ]
     },
     "metadata": {},
     "output_type": "display_data"
    },
    {
     "data": {
      "text/html": [],
      "text/plain": [
       "<IPython.core.display.HTML object>"
      ]
     },
     "metadata": {},
     "output_type": "display_data"
    },
    {
     "data": {
      "text/plain": [
       "{'Dog': 0.9999150037765503, 'Cat': 8.493648783769459e-05}"
      ]
     },
     "execution_count": 9,
     "metadata": {},
     "output_type": "execute_result"
    }
   ],
   "source": [
    "# show classification example on dog picture\n",
    "classify_image(im)"
   ]
  },
  {
   "cell_type": "code",
   "execution_count": 10,
   "id": "42a1a63e-d5ba-4302-ab73-4a4e32f9b036",
   "metadata": {},
   "outputs": [
    {
     "name": "stderr",
     "output_type": "stream",
     "text": [
      "/var/folders/l9/rsy69nl11y18s2w98bcxqbrr0000gn/T/ipykernel_96419/3534948687.py:2: GradioDeprecationWarning: Usage of gradio.inputs is deprecated, and will not be supported in the future, please import your component from gradio.components\n",
      "  image = gr.inputs.Image(shape=(192,192))\n",
      "/var/folders/l9/rsy69nl11y18s2w98bcxqbrr0000gn/T/ipykernel_96419/3534948687.py:2: GradioDeprecationWarning: `optional` parameter is deprecated, and it has no effect\n",
      "  image = gr.inputs.Image(shape=(192,192))\n",
      "/var/folders/l9/rsy69nl11y18s2w98bcxqbrr0000gn/T/ipykernel_96419/3534948687.py:3: GradioDeprecationWarning: Usage of gradio.outputs is deprecated, and will not be supported in the future, please import your components from gradio.components\n",
      "  label = gr.outputs.Label()\n",
      "/var/folders/l9/rsy69nl11y18s2w98bcxqbrr0000gn/T/ipykernel_96419/3534948687.py:3: GradioUnusedKwargWarning: You have unused kwarg parameters in Label, please remove them: {'type': 'auto'}\n",
      "  label = gr.outputs.Label()\n"
     ]
    },
    {
     "name": "stdout",
     "output_type": "stream",
     "text": [
      "Running on local URL:  http://127.0.0.1:7860\n",
      "\n",
      "To create a public link, set `share=True` in `launch()`.\n"
     ]
    },
    {
     "data": {
      "text/plain": []
     },
     "execution_count": 10,
     "metadata": {},
     "output_type": "execute_result"
    }
   ],
   "source": [
    "#|export\n",
    "image = gr.inputs.Image(shape=(192,192))\n",
    "label = gr.outputs.Label()\n",
    "examples = [\"dog.jpeg\",\"cat.jpeg\",\"dunno.jpeg\"]\n",
    "\n",
    "# simple gradio interface\n",
    "intf = gr.Interface(fn=classify_image, inputs=image, outputs=label,examples=examples)\n",
    "intf.launch(inline=False)"
   ]
  },
  {
   "cell_type": "markdown",
   "id": "224fc5db-cd7e-4769-bfb7-549c7432283f",
   "metadata": {},
   "source": [
    "# Export"
   ]
  },
  {
   "cell_type": "code",
   "execution_count": 12,
   "id": "05b86944-7a11-4359-a767-c7a23dbbdefd",
   "metadata": {},
   "outputs": [],
   "source": [
    "import nbdev\n",
    "\n",
    "# export file to app.py file in app directory\n",
    "nbdev.export.nb_export('app.ipynb', 'app')"
   ]
  },
  {
   "cell_type": "code",
   "execution_count": null,
   "id": "41c4dcb1-4739-459f-86cd-4854d6ad3f04",
   "metadata": {},
   "outputs": [],
   "source": []
  },
  {
   "cell_type": "code",
   "execution_count": null,
   "id": "77c1e4d1-4296-41dc-8ad0-3d36d5e0d9e4",
   "metadata": {},
   "outputs": [],
   "source": []
  }
 ],
 "metadata": {
  "kernelspec": {
   "display_name": "Python 3 (ipykernel)",
   "language": "python",
   "name": "python3"
  },
  "language_info": {
   "codemirror_mode": {
    "name": "ipython",
    "version": 3
   },
   "file_extension": ".py",
   "mimetype": "text/x-python",
   "name": "python",
   "nbconvert_exporter": "python",
   "pygments_lexer": "ipython3",
   "version": "3.11.5"
  }
 },
 "nbformat": 4,
 "nbformat_minor": 5
}
